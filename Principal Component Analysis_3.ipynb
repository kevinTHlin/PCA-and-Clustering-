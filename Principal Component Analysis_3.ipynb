{
 "cells": [
  {
   "cell_type": "code",
   "execution_count": 22,
   "metadata": {
    "collapsed": true
   },
   "outputs": [],
   "source": [
    "# print_function for compatibility with Python 3\n",
    "from __future__ import print_function\n",
    "\n",
    "# NumPy for numerical computing\n",
    "import numpy as np\n",
    "# Pandas for DataFrames\n",
    "import pandas as pd\n",
    "\n",
    "\n",
    "# Matplotlib for visualization\n",
    "from matplotlib import pyplot as plt\n",
    "\n",
    "# display plots in the notebook\n",
    "%matplotlib inline\n",
    "\n",
    "# Seaborn for easier visualization\n",
    "import seaborn as sns\n",
    "\n",
    "# StandardScaler from Scikit-Learn\n",
    "from sklearn.preprocessing import StandardScaler\n",
    "\n",
    "# PCA from Scikit-Learn (added later)\n",
    "\n",
    "from sklearn.decomposition import PCA"
   ]
  },
  {
   "cell_type": "code",
   "execution_count": 3,
   "metadata": {
    "collapsed": true
   },
   "outputs": [],
   "source": [
    "# Read item_data.csv\n",
    "df=pd.read_csv('project_files/item_data.csv',index_col=0)"
   ]
  },
  {
   "cell_type": "code",
   "execution_count": 4,
   "metadata": {},
   "outputs": [
    {
     "data": {
      "text/plain": [
       "(414, 2574)"
      ]
     },
     "execution_count": 4,
     "metadata": {},
     "output_type": "execute_result"
    }
   ],
   "source": [
    "# Display item_data's shape\n",
    "df.shape"
   ]
  },
  {
   "cell_type": "code",
   "execution_count": 44,
   "metadata": {},
   "outputs": [
    {
     "data": {
      "text/plain": [
       "array([[-0.13303802, -0.04920678, -0.1119152 , ..., -0.10482848,\n",
       "        -0.15568183, -0.68068072],\n",
       "       [-0.13303802, -0.04920678, -0.1119152 , ..., -0.10482848,\n",
       "        -0.15568183,  0.38776219],\n",
       "       [-0.13303802, -0.04920678, -0.1119152 , ..., -0.10482848,\n",
       "        -0.15568183, -0.41356999],\n",
       "       [-0.13303802, -0.04920678, -0.1119152 , ..., -0.10482848,\n",
       "        -0.15568183, -0.41356999],\n",
       "       [-0.13303802, -0.04920678, -0.1119152 , ..., -0.10482848,\n",
       "         5.53128397,  0.65487292]])"
      ]
     },
     "execution_count": 44,
     "metadata": {},
     "output_type": "execute_result"
    }
   ],
   "source": [
    "# Initialize instance of StandardScaler\n",
    "\n",
    "item_sc=StandardScaler()\n",
    "# Fit and transform item_data\n",
    "item_data_scaled=item_sc.fit_transform(df)\n",
    "\n",
    "# Display first 5 rows of item_data_scaled\n",
    "item_data_scaled[:5]"
   ]
  },
  {
   "cell_type": "code",
   "execution_count": 46,
   "metadata": {},
   "outputs": [
    {
     "data": {
      "text/plain": [
       "PCA(copy=True, iterated_power='auto', n_components=None, random_state=None,\n",
       "  svd_solver='auto', tol=0.0, whiten=False)"
      ]
     },
     "execution_count": 46,
     "metadata": {},
     "output_type": "execute_result"
    }
   ],
   "source": [
    "# Initialize and fit a PCA transformation\n",
    "\n",
    "pc=PCA()\n",
    "pc.fit(item_data_scaled)"
   ]
  },
  {
   "cell_type": "code",
   "execution_count": 50,
   "metadata": {},
   "outputs": [
    {
     "data": {
      "text/plain": [
       "array([[  5.87614052e+00,   4.82891689e+00,  -4.95545069e-01, ...,\n",
       "         -6.62646278e-04,  -4.43629806e-05,   6.81399381e-15],\n",
       "       [ -4.21983747e+00,   1.22621722e+00,  -1.88191211e+00, ...,\n",
       "         -2.11471782e-04,  -2.69154340e-04,  -3.67067488e-15],\n",
       "       [ -1.26084676e+00,   2.38766371e+00,  -7.31483440e-02, ...,\n",
       "          2.57750179e-04,  -2.05682324e-04,  -1.98625838e-15],\n",
       "       [ -4.92931983e+00,  -7.14858724e-01,  -1.58093026e+00, ...,\n",
       "         -1.98603886e-03,   9.92316312e-05,   3.72965547e-16],\n",
       "       [ -2.05311348e+00,   2.11095022e+00,   1.84807021e-01, ...,\n",
       "         -3.43415269e-04,  -1.32981672e-04,   3.96904731e-15]])"
      ]
     },
     "execution_count": 50,
     "metadata": {},
     "output_type": "execute_result"
    }
   ],
   "source": [
    "# Generate new features\n",
    "PC_items = pc.transform(item_data_scaled)\n",
    "\n",
    "# Display first 5 rows\n",
    "PC_items[:5]"
   ]
  },
  {
   "cell_type": "code",
   "execution_count": 53,
   "metadata": {},
   "outputs": [
    {
     "data": {
      "text/plain": [
       "[<matplotlib.lines.Line2D at 0x10f955f8>]"
      ]
     },
     "execution_count": 53,
     "metadata": {},
     "output_type": "execute_result"
    },
    {
     "data": {
      "image/png": "[encoded data removed]",
      "text/plain": [
       "<matplotlib.figure.Figure at 0x116b9a58>"
      ]
     },
     "metadata": {},
     "output_type": "display_data"
    }
   ],
   "source": [
    "# Cumulative explained variance\n",
    "cumulative_explained_variance=np.cumsum(pc.explained_variance_ratio_)\n",
    "\n",
    "# Plot cumulative explained variance\n",
    "plt.plot(range(len(cumulative_explained_variance)),cumulative_explained_variance)"
   ]
  },
  {
   "cell_type": "code",
   "execution_count": 54,
   "metadata": {},
   "outputs": [
    {
     "data": {
      "text/plain": [
       "0.7955069032205403"
      ]
     },
     "execution_count": 54,
     "metadata": {},
     "output_type": "execute_result"
    }
   ],
   "source": [
    "# How much variance we'd capture with the first 125 components\n",
    "cumulative_explained_variance[124]"
   ]
  },
  {
   "cell_type": "code",
   "execution_count": 58,
   "metadata": {},
   "outputs": [
    {
     "data": {
      "text/plain": [
       "(414L, 125L)"
      ]
     },
     "execution_count": 58,
     "metadata": {},
     "output_type": "execute_result"
    }
   ],
   "source": [
    "# Initialize PCA transformation, only keeping 125 components\n",
    "pca=PCA(n_components=125)\n",
    "\n",
    "# Fit and transform item_data_scaled\n",
    "pca.fit(item_data_scaled)\n",
    "PC_items=pca.transform(item_data_scaled)\n",
    "# Display shape of PC_items\n",
    "PC_items.shape"
   ]
  },
  {
   "cell_type": "code",
   "execution_count": 60,
   "metadata": {},
   "outputs": [
    {
     "data": {
      "text/html": [
       "<div>\n",
       "<style>\n",
       "    .dataframe thead tr:only-child th {\n",
       "        text-align: right;\n",
       "    }\n",
       "\n",
       "    .dataframe thead th {\n",
       "        text-align: left;\n",
       "    }\n",
       "\n",
       "    .dataframe tbody tr th {\n",
       "        vertical-align: top;\n",
       "    }\n",
       "</style>\n",
       "<table border=\"1\" class=\"dataframe\">\n",
       "  <thead>\n",
       "    <tr style=\"text-align: right;\">\n",
       "      <th></th>\n",
       "      <th>PC1</th>\n",
       "      <th>PC2</th>\n",
       "      <th>PC3</th>\n",
       "      <th>PC4</th>\n",
       "      <th>PC5</th>\n",
       "      <th>PC6</th>\n",
       "      <th>PC7</th>\n",
       "      <th>PC8</th>\n",
       "      <th>PC9</th>\n",
       "      <th>PC10</th>\n",
       "      <th>...</th>\n",
       "      <th>PC116</th>\n",
       "      <th>PC117</th>\n",
       "      <th>PC118</th>\n",
       "      <th>PC119</th>\n",
       "      <th>PC120</th>\n",
       "      <th>PC121</th>\n",
       "      <th>PC122</th>\n",
       "      <th>PC123</th>\n",
       "      <th>PC124</th>\n",
       "      <th>PC125</th>\n",
       "    </tr>\n",
       "    <tr>\n",
       "      <th>CustomerID</th>\n",
       "      <th></th>\n",
       "      <th></th>\n",
       "      <th></th>\n",
       "      <th></th>\n",
       "      <th></th>\n",
       "      <th></th>\n",
       "      <th></th>\n",
       "      <th></th>\n",
       "      <th></th>\n",
       "      <th></th>\n",
       "      <th></th>\n",
       "      <th></th>\n",
       "      <th></th>\n",
       "      <th></th>\n",
       "      <th></th>\n",
       "      <th></th>\n",
       "      <th></th>\n",
       "      <th></th>\n",
       "      <th></th>\n",
       "      <th></th>\n",
       "      <th></th>\n",
       "    </tr>\n",
       "  </thead>\n",
       "  <tbody>\n",
       "    <tr>\n",
       "      <th>12347</th>\n",
       "      <td>5.876140</td>\n",
       "      <td>4.828908</td>\n",
       "      <td>-0.495536</td>\n",
       "      <td>3.093868</td>\n",
       "      <td>-0.633718</td>\n",
       "      <td>-11.534005</td>\n",
       "      <td>2.162065</td>\n",
       "      <td>7.116964</td>\n",
       "      <td>5.336009</td>\n",
       "      <td>4.424434</td>\n",
       "      <td>...</td>\n",
       "      <td>-0.287183</td>\n",
       "      <td>0.180107</td>\n",
       "      <td>-0.067891</td>\n",
       "      <td>0.446641</td>\n",
       "      <td>0.612589</td>\n",
       "      <td>-0.068337</td>\n",
       "      <td>-0.368486</td>\n",
       "      <td>-0.614079</td>\n",
       "      <td>0.040555</td>\n",
       "      <td>-0.536834</td>\n",
       "    </tr>\n",
       "    <tr>\n",
       "      <th>12348</th>\n",
       "      <td>-4.219833</td>\n",
       "      <td>1.226228</td>\n",
       "      <td>-1.881750</td>\n",
       "      <td>-0.174376</td>\n",
       "      <td>0.818003</td>\n",
       "      <td>1.160651</td>\n",
       "      <td>-0.871376</td>\n",
       "      <td>-0.846491</td>\n",
       "      <td>0.459925</td>\n",
       "      <td>0.854550</td>\n",
       "      <td>...</td>\n",
       "      <td>-0.479025</td>\n",
       "      <td>-0.784684</td>\n",
       "      <td>1.242603</td>\n",
       "      <td>0.844374</td>\n",
       "      <td>-1.739989</td>\n",
       "      <td>0.756197</td>\n",
       "      <td>0.900938</td>\n",
       "      <td>-0.101712</td>\n",
       "      <td>-0.515705</td>\n",
       "      <td>3.867288</td>\n",
       "    </tr>\n",
       "    <tr>\n",
       "      <th>12349</th>\n",
       "      <td>-1.260833</td>\n",
       "      <td>2.387628</td>\n",
       "      <td>-0.073222</td>\n",
       "      <td>-1.119182</td>\n",
       "      <td>-0.034170</td>\n",
       "      <td>-3.714953</td>\n",
       "      <td>-0.344058</td>\n",
       "      <td>-0.149036</td>\n",
       "      <td>-0.789765</td>\n",
       "      <td>-0.380293</td>\n",
       "      <td>...</td>\n",
       "      <td>-1.520954</td>\n",
       "      <td>2.777021</td>\n",
       "      <td>-1.295895</td>\n",
       "      <td>0.577675</td>\n",
       "      <td>-0.224062</td>\n",
       "      <td>-1.365487</td>\n",
       "      <td>-0.654526</td>\n",
       "      <td>-1.202683</td>\n",
       "      <td>-0.664729</td>\n",
       "      <td>-4.142010</td>\n",
       "    </tr>\n",
       "    <tr>\n",
       "      <th>12350</th>\n",
       "      <td>-4.929318</td>\n",
       "      <td>-0.714870</td>\n",
       "      <td>-1.580911</td>\n",
       "      <td>-0.469732</td>\n",
       "      <td>-0.116302</td>\n",
       "      <td>0.647933</td>\n",
       "      <td>0.112884</td>\n",
       "      <td>-1.336266</td>\n",
       "      <td>1.547086</td>\n",
       "      <td>-1.190348</td>\n",
       "      <td>...</td>\n",
       "      <td>2.163672</td>\n",
       "      <td>-1.003627</td>\n",
       "      <td>0.425208</td>\n",
       "      <td>0.175096</td>\n",
       "      <td>-0.466048</td>\n",
       "      <td>-0.026856</td>\n",
       "      <td>-0.445150</td>\n",
       "      <td>0.385755</td>\n",
       "      <td>-1.065481</td>\n",
       "      <td>-0.435658</td>\n",
       "    </tr>\n",
       "    <tr>\n",
       "      <th>12352</th>\n",
       "      <td>-2.053140</td>\n",
       "      <td>2.110815</td>\n",
       "      <td>0.184691</td>\n",
       "      <td>0.128487</td>\n",
       "      <td>0.087895</td>\n",
       "      <td>-1.943619</td>\n",
       "      <td>2.383255</td>\n",
       "      <td>0.898724</td>\n",
       "      <td>-0.672111</td>\n",
       "      <td>0.080163</td>\n",
       "      <td>...</td>\n",
       "      <td>-5.719881</td>\n",
       "      <td>3.104791</td>\n",
       "      <td>3.839123</td>\n",
       "      <td>2.906790</td>\n",
       "      <td>-1.023003</td>\n",
       "      <td>-10.385841</td>\n",
       "      <td>-2.489582</td>\n",
       "      <td>-4.326571</td>\n",
       "      <td>3.195885</td>\n",
       "      <td>-1.705039</td>\n",
       "    </tr>\n",
       "  </tbody>\n",
       "</table>\n",
       "<p>5 rows × 125 columns</p>\n",
       "</div>"
      ],
      "text/plain": [
       "                 PC1       PC2       PC3       PC4       PC5        PC6  \\\n",
       "CustomerID                                                                \n",
       "12347       5.876140  4.828908 -0.495536  3.093868 -0.633718 -11.534005   \n",
       "12348      -4.219833  1.226228 -1.881750 -0.174376  0.818003   1.160651   \n",
       "12349      -1.260833  2.387628 -0.073222 -1.119182 -0.034170  -3.714953   \n",
       "12350      -4.929318 -0.714870 -1.580911 -0.469732 -0.116302   0.647933   \n",
       "12352      -2.053140  2.110815  0.184691  0.128487  0.087895  -1.943619   \n",
       "\n",
       "                 PC7       PC8       PC9      PC10    ...        PC116  \\\n",
       "CustomerID                                            ...                \n",
       "12347       2.162065  7.116964  5.336009  4.424434    ...    -0.287183   \n",
       "12348      -0.871376 -0.846491  0.459925  0.854550    ...    -0.479025   \n",
       "12349      -0.344058 -0.149036 -0.789765 -0.380293    ...    -1.520954   \n",
       "12350       0.112884 -1.336266  1.547086 -1.190348    ...     2.163672   \n",
       "12352       2.383255  0.898724 -0.672111  0.080163    ...    -5.719881   \n",
       "\n",
       "               PC117     PC118     PC119     PC120      PC121     PC122  \\\n",
       "CustomerID                                                                \n",
       "12347       0.180107 -0.067891  0.446641  0.612589  -0.068337 -0.368486   \n",
       "12348      -0.784684  1.242603  0.844374 -1.739989   0.756197  0.900938   \n",
       "12349       2.777021 -1.295895  0.577675 -0.224062  -1.365487 -0.654526   \n",
       "12350      -1.003627  0.425208  0.175096 -0.466048  -0.026856 -0.445150   \n",
       "12352       3.104791  3.839123  2.906790 -1.023003 -10.385841 -2.489582   \n",
       "\n",
       "               PC123     PC124     PC125  \n",
       "CustomerID                                \n",
       "12347      -0.614079  0.040555 -0.536834  \n",
       "12348      -0.101712 -0.515705  3.867288  \n",
       "12349      -1.202683 -0.664729 -4.142010  \n",
       "12350       0.385755 -1.065481 -0.435658  \n",
       "12352      -4.326571  3.195885 -1.705039  \n",
       "\n",
       "[5 rows x 125 columns]"
      ]
     },
     "execution_count": 60,
     "metadata": {},
     "output_type": "execute_result"
    }
   ],
   "source": [
    "# Put PC_items into a dataframe\n",
    "items_pca=pd.DataFrame(PC_items)\n",
    "\n",
    "# Name the columns\n",
    "items_pca.columns=['PC{}'.format(i+1) for i in range(PC_items.shape[1])]\n",
    "\n",
    "# Update its index\n",
    "items_pca.index=df.index\n",
    "\n",
    "# Display first 5 rows\n",
    "items_pca.head()"
   ]
  },
  {
   "cell_type": "code",
   "execution_count": 61,
   "metadata": {
    "collapsed": true
   },
   "outputs": [],
   "source": [
    "# Save pca_item_data.csv\n",
    "items_pca.to_csv('pca_item_data.csv')"
   ]
  }
 ],
 "metadata": {
  "kernelspec": {
   "display_name": "Python 2",
   "language": "python",
   "name": "python2"
  },
  "language_info": {
   "codemirror_mode": {
    "name": "ipython",
    "version": 2
   },
   "file_extension": ".py",
   "mimetype": "text/x-python",
   "name": "python",
   "nbconvert_exporter": "python",
   "pygments_lexer": "ipython2",
   "version": "2.7.14"
  }
 },
 "nbformat": 4,
 "nbformat_minor": 1
}
